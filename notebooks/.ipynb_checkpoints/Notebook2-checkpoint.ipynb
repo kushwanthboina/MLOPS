{
 "cells": [
  {
   "cell_type": "markdown",
   "id": "77cbb779-ee88-4f54-bef2-a2cf81da16ff",
   "metadata": {},
   "source": [
    "## Model Deployment Using FastAPI\n",
    "\n",
    "This section demonstrates how to deploy the trained ML model as a RESTful API using FastAPI. The API loads the best model from the MLflow artifact store and provides an endpoint (`/predict`) that accepts input features in JSON format and returns a prediction.\n"
   ]
  },
  {
   "cell_type": "code",
   "execution_count": null,
   "id": "c3c158af-dc20-450a-8ce6-527dd9a504cd",
   "metadata": {},
   "outputs": [],
   "source": [
    "from fastapi import FastAPI, HTTPException\n",
    "from pydantic import BaseModel\n",
    "import mlflow.sklearn\n",
    "import pandas as pd\n",
    "\n",
    "# Initialize FastAPI app\n",
    "app = FastAPI(\n",
    "    title=\"Banking ML Model API\",\n",
    "    description=\"API for predicting term deposit subscription using the best ML model from MLflow\",\n",
    "    version=\"1.0.0\"\n",
    ")\n",
    "\n",
    "# Define the expected input schema using Pydantic\n",
    "class InputData(BaseModel):\n",
    "    age: int\n",
    "    job: str\n",
    "    marital: str\n",
    "    education: str\n",
    "    default: str\n",
    "    balance: float\n",
    "    housing: str\n",
    "    loan: str\n",
    "    contact: str\n",
    "    day: int\n",
    "    month: str\n",
    "    duration: int\n",
    "    campaign: int\n",
    "    pdays: int\n",
    "    previous: int\n",
    "    poutcome: str\n",
    "\n",
    "# Load the best model directly from MLflow artifact location\n",
    "model_path = \"C:/Users/user/MLOPS Project/mlruns/653138713369900692/06b5282264ed453f851a9ceda265ae95/artifacts/model\"\n",
    "try:\n",
    "    model = mlflow.sklearn.load_model(model_path)\n",
    "except Exception as e:\n",
    "    raise RuntimeError(f\"Failed to load the model: {e}\")\n",
    "\n",
    "@app.post(\"/predict\", summary=\"Get Prediction\", response_description=\"Prediction result\")\n",
    "def predict(input_data: InputData):\n",
    "    \"\"\"\n",
    "    Accepts a JSON object containing input features,\n",
    "    converts it to a DataFrame, and returns the model prediction.\n",
    "    \"\"\"\n",
    "    try:\n",
    "        # Convert input to DataFrame\n",
    "        input_df = pd.DataFrame([input_data.dict()])\n",
    "        \n",
    "        # Make prediction\n",
    "        prediction = model.predict(input_df)\n",
    "        \n",
    "        return {\"prediction\": prediction[0]}\n",
    "    except Exception as err:\n",
    "        raise HTTPException(status_code=500, detail=str(err))\n"
   ]
  }
 ],
 "metadata": {
  "kernelspec": {
   "display_name": "Python 3",
   "language": "python",
   "name": "python3"
  },
  "language_info": {
   "codemirror_mode": {
    "name": "ipython",
    "version": 3
   },
   "file_extension": ".py",
   "mimetype": "text/x-python",
   "name": "python",
   "nbconvert_exporter": "python",
   "pygments_lexer": "ipython3",
   "version": "3.10.7"
  }
 },
 "nbformat": 4,
 "nbformat_minor": 5
}
